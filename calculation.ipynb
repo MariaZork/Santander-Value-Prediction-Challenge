{
 "cells": [
  {
   "cell_type": "markdown",
   "metadata": {},
   "source": [
    "## Santander Value Prediction Challenge\n",
    "Predict the value of transactions for potential customers.\n",
    "### Calculation"
   ]
  },
  {
   "cell_type": "code",
   "execution_count": 1,
   "metadata": {},
   "outputs": [],
   "source": [
    "import pandas as pd\n",
    "import numpy as np\n",
    "\n",
    "import lightgbm as lgb\n",
    "import xgboost as xgb\n",
    "\n",
    "from mlxtend.regressor import StackingRegressor\n",
    "from skopt import BayesSearchCV\n",
    "from skopt.space import Real, Integer\n",
    "\n",
    "from sklearn.preprocessing import RobustScaler\n",
    "from sklearn.model_selection import train_test_split, KFold, GridSearchCV\n",
    "from sklearn.metrics import mean_squared_error, mean_squared_log_error\n",
    "from sklearn.preprocessing import StandardScaler\n",
    "from sklearn.decomposition import PCA, TruncatedSVD\n",
    "from sklearn.linear_model import ElasticNet, ElasticNetCV\n",
    "from sklearn.ensemble import GradientBoostingRegressor, RandomForestRegressor, AdaBoostRegressor, ExtraTreesRegressor, BaggingRegressor"
   ]
  },
  {
   "cell_type": "code",
   "execution_count": 6,
   "metadata": {},
   "outputs": [],
   "source": [
    "data = pd.read_csv('dataset//train.csv', sep=',')\n",
    "Y = data['target']\n",
    "X_train = pd.read_csv('results//without_outliers_X_train.csv', sep=',')\n",
    "X_test = pd.read_csv('results//without_outliers_X_test.csv', sep=',')"
   ]
  },
  {
   "cell_type": "code",
   "execution_count": 7,
   "metadata": {},
   "outputs": [],
   "source": [
    "Y_train = np.log1p(Y)"
   ]
  },
  {
   "cell_type": "markdown",
   "metadata": {},
   "source": [
    "### Select the most important features"
   ]
  },
  {
   "cell_type": "code",
   "execution_count": 8,
   "metadata": {},
   "outputs": [
    {
     "name": "stderr",
     "output_type": "stream",
     "text": [
      "[Parallel(n_jobs=1)]: Done 100 out of 100 | elapsed: 12.3min finished\n",
      "[Parallel(n_jobs=1)]: Done 100 out of 100 | elapsed:    0.2s finished\n"
     ]
    },
    {
     "name": "stdout",
     "output_type": "stream",
     "text": [
      "1.423839325790084\n",
      "Wall time: 12min 23s\n"
     ]
    }
   ],
   "source": [
    "%%time\n",
    "def rmse(y, pred):\n",
    "    return np.sqrt(np.mean(np.power(y - pred, 2)))\n",
    "\n",
    "X1, X2, Y1, Y2 = train_test_split(X_train, Y_train, test_size=0.20, random_state=42)\n",
    "\n",
    "rfRegressor = RandomForestRegressor(n_estimators=100, verbose=1, random_state=42)\n",
    "rfRegressor.fit(X1, Y1)\n",
    "print(rmse(Y2, rfRegressor.predict(X2)))\n",
    "\n",
    "cols = pd.DataFrame({'importance': rfRegressor.feature_importances_, 'feature': X_train.columns}).sort_values(\n",
    "    by=['importance'], ascending=[False])[:1000]['feature'].values\n",
    "X_train = X_train[cols]\n",
    "X_test = X_test[cols]"
   ]
  },
  {
   "cell_type": "markdown",
   "metadata": {},
   "source": [
    "### Stacking regressors"
   ]
  },
  {
   "cell_type": "code",
   "execution_count": 9,
   "metadata": {},
   "outputs": [
    {
     "name": "stdout",
     "output_type": "stream",
     "text": [
      "Fitting 5 regressors...\n",
      "Fitting regressor1: adaboostregressor (1/5)\n",
      "Fitting regressor2: gradientboostingregressor (2/5)\n",
      "Fitting regressor3: randomforestregressor (3/5)\n",
      "Fitting regressor4: extratreesregressor (4/5)\n",
      "Fitting regressor5: baggingregressor (5/5)\n",
      "Log Mean Squared Error: 0.002599675447\n",
      "Wall time: 9min 1s\n"
     ]
    }
   ],
   "source": [
    "%%time\n",
    "def RMSE(Ypreds, Ytrue):\n",
    "    result = np.sum(np.mean((Ytrue - Ypreds)**2))\n",
    "    return result\n",
    "\n",
    "adaRegressor = AdaBoostRegressor(n_estimators=300, random_state=42)\n",
    "gbRegressor = GradientBoostingRegressor(n_estimators=300, random_state=42)\n",
    "rfRegressor = RandomForestRegressor(n_estimators=100, random_state=42)\n",
    "exTreeRegressor = ExtraTreesRegressor(n_estimators=10, random_state=42)\n",
    "baggingRegressor = BaggingRegressor(n_estimators=20, random_state=42)\n",
    "# ======================================================================================\n",
    "stack = StackingRegressor(regressors=[adaRegressor, gbRegressor, rfRegressor, exTreeRegressor, baggingRegressor], \n",
    "                          meta_regressor=gbRegressor, verbose=1)\n",
    "stack.fit(X_train, Y_train)\n",
    "\n",
    "print(\"Log Mean Squared Error: %.12f\" % RMSE(stack.predict(X_train), Y_train))\n",
    "\n",
    "Y_stack_preds = np.expm1(stack.predict(X_test))"
   ]
  },
  {
   "cell_type": "markdown",
   "metadata": {},
   "source": [
    "### lightGBM tuning"
   ]
  },
  {
   "cell_type": "code",
   "execution_count": 12,
   "metadata": {},
   "outputs": [
    {
     "name": "stdout",
     "output_type": "stream",
     "text": [
      "2.1.2\n",
      "Fitting 3 folds for each of 1 candidates, totalling 3 fits\n"
     ]
    },
    {
     "name": "stderr",
     "output_type": "stream",
     "text": [
      "[Parallel(n_jobs=1)]: Done   3 out of   3 | elapsed:   59.6s finished\n"
     ]
    },
    {
     "name": "stdout",
     "output_type": "stream",
     "text": [
      "Best RMSE: -2.7770052\n",
      "Best params: {'colsample_bytree': 0.4160029192647807, 'learning_rate': 0.28539836866041823, 'max_bin': 940, 'max_depth': 16, 'min_child_samples': 34, 'min_child_weight': 4.141186324855385, 'num_leaves': 37, 'reg_alpha': 0.004524161584138917, 'reg_lambda': 4.5035991909114364e-06, 'scale_pos_weight': 0.4316379249903662, 'subsample': 0.5544643023916863, 'subsample_for_bin': 150734, 'subsample_freq': 2}\n",
      "\n",
      "Fitting 3 folds for each of 1 candidates, totalling 3 fits\n"
     ]
    },
    {
     "name": "stderr",
     "output_type": "stream",
     "text": [
      "[Parallel(n_jobs=1)]: Done   3 out of   3 | elapsed:  1.3min finished\n"
     ]
    },
    {
     "name": "stdout",
     "output_type": "stream",
     "text": [
      "Best RMSE: -2.7770052\n",
      "Best params: {'colsample_bytree': 0.4160029192647807, 'learning_rate': 0.28539836866041823, 'max_bin': 940, 'max_depth': 16, 'min_child_samples': 34, 'min_child_weight': 4.141186324855385, 'num_leaves': 37, 'reg_alpha': 0.004524161584138917, 'reg_lambda': 4.5035991909114364e-06, 'scale_pos_weight': 0.4316379249903662, 'subsample': 0.5544643023916863, 'subsample_for_bin': 150734, 'subsample_freq': 2}\n",
      "\n",
      "Fitting 3 folds for each of 1 candidates, totalling 3 fits\n"
     ]
    },
    {
     "name": "stderr",
     "output_type": "stream",
     "text": [
      "[Parallel(n_jobs=1)]: Done   3 out of   3 | elapsed:  1.3min finished\n"
     ]
    },
    {
     "name": "stdout",
     "output_type": "stream",
     "text": [
      "Best RMSE: -2.7770052\n",
      "Best params: {'colsample_bytree': 0.4160029192647807, 'learning_rate': 0.28539836866041823, 'max_bin': 940, 'max_depth': 16, 'min_child_samples': 34, 'min_child_weight': 4.141186324855385, 'num_leaves': 37, 'reg_alpha': 0.004524161584138917, 'reg_lambda': 4.5035991909114364e-06, 'scale_pos_weight': 0.4316379249903662, 'subsample': 0.5544643023916863, 'subsample_for_bin': 150734, 'subsample_freq': 2}\n",
      "\n",
      "Fitting 3 folds for each of 1 candidates, totalling 3 fits\n"
     ]
    },
    {
     "name": "stderr",
     "output_type": "stream",
     "text": [
      "[Parallel(n_jobs=1)]: Done   3 out of   3 | elapsed:   47.0s finished\n"
     ]
    },
    {
     "name": "stdout",
     "output_type": "stream",
     "text": [
      "Best RMSE: -2.1481775\n",
      "Best params: {'colsample_bytree': 0.8142720284737898, 'learning_rate': 0.022066991249460103, 'max_bin': 638, 'max_depth': 40, 'min_child_samples': 26, 'min_child_weight': 0.9545503921499345, 'num_leaves': 76, 'reg_alpha': 0.07139588474544915, 'reg_lambda': 87.7296381526307, 'scale_pos_weight': 0.002315903191638441, 'subsample': 0.34817978468161015, 'subsample_for_bin': 435012, 'subsample_freq': 6}\n",
      "\n",
      "Fitting 3 folds for each of 1 candidates, totalling 3 fits\n"
     ]
    },
    {
     "name": "stderr",
     "output_type": "stream",
     "text": [
      "[Parallel(n_jobs=1)]: Done   3 out of   3 | elapsed:  1.2min finished\n"
     ]
    },
    {
     "name": "stdout",
     "output_type": "stream",
     "text": [
      "Best RMSE: -2.1481775\n",
      "Best params: {'colsample_bytree': 0.8142720284737898, 'learning_rate': 0.022066991249460103, 'max_bin': 638, 'max_depth': 40, 'min_child_samples': 26, 'min_child_weight': 0.9545503921499345, 'num_leaves': 76, 'reg_alpha': 0.07139588474544915, 'reg_lambda': 87.7296381526307, 'scale_pos_weight': 0.002315903191638441, 'subsample': 0.34817978468161015, 'subsample_for_bin': 435012, 'subsample_freq': 6}\n",
      "\n",
      "Fitting 3 folds for each of 1 candidates, totalling 3 fits\n"
     ]
    },
    {
     "name": "stderr",
     "output_type": "stream",
     "text": [
      "[Parallel(n_jobs=1)]: Done   3 out of   3 | elapsed:  1.1min finished\n"
     ]
    },
    {
     "name": "stdout",
     "output_type": "stream",
     "text": [
      "Best RMSE: -2.1481775\n",
      "Best params: {'colsample_bytree': 0.8142720284737898, 'learning_rate': 0.022066991249460103, 'max_bin': 638, 'max_depth': 40, 'min_child_samples': 26, 'min_child_weight': 0.9545503921499345, 'num_leaves': 76, 'reg_alpha': 0.07139588474544915, 'reg_lambda': 87.7296381526307, 'scale_pos_weight': 0.002315903191638441, 'subsample': 0.34817978468161015, 'subsample_for_bin': 435012, 'subsample_freq': 6}\n",
      "\n",
      "Fitting 3 folds for each of 1 candidates, totalling 3 fits\n"
     ]
    },
    {
     "name": "stderr",
     "output_type": "stream",
     "text": [
      "[Parallel(n_jobs=1)]: Done   3 out of   3 | elapsed:  3.3min finished\n"
     ]
    },
    {
     "name": "stdout",
     "output_type": "stream",
     "text": [
      "Best RMSE: -2.1481775\n",
      "Best params: {'colsample_bytree': 0.8142720284737898, 'learning_rate': 0.022066991249460103, 'max_bin': 638, 'max_depth': 40, 'min_child_samples': 26, 'min_child_weight': 0.9545503921499345, 'num_leaves': 76, 'reg_alpha': 0.07139588474544915, 'reg_lambda': 87.7296381526307, 'scale_pos_weight': 0.002315903191638441, 'subsample': 0.34817978468161015, 'subsample_for_bin': 435012, 'subsample_freq': 6}\n",
      "\n",
      "Fitting 3 folds for each of 1 candidates, totalling 3 fits\n"
     ]
    },
    {
     "name": "stderr",
     "output_type": "stream",
     "text": [
      "[Parallel(n_jobs=1)]: Done   3 out of   3 | elapsed:  1.9min finished\n"
     ]
    },
    {
     "name": "stdout",
     "output_type": "stream",
     "text": [
      "Best RMSE: -2.1481775\n",
      "Best params: {'colsample_bytree': 0.8142720284737898, 'learning_rate': 0.022066991249460103, 'max_bin': 638, 'max_depth': 40, 'min_child_samples': 26, 'min_child_weight': 0.9545503921499345, 'num_leaves': 76, 'reg_alpha': 0.07139588474544915, 'reg_lambda': 87.7296381526307, 'scale_pos_weight': 0.002315903191638441, 'subsample': 0.34817978468161015, 'subsample_for_bin': 435012, 'subsample_freq': 6}\n",
      "\n",
      "Fitting 3 folds for each of 1 candidates, totalling 3 fits\n"
     ]
    },
    {
     "name": "stderr",
     "output_type": "stream",
     "text": [
      "[Parallel(n_jobs=1)]: Done   3 out of   3 | elapsed:   19.7s finished\n"
     ]
    },
    {
     "name": "stdout",
     "output_type": "stream",
     "text": [
      "Best RMSE: -2.1481775\n",
      "Best params: {'colsample_bytree': 0.8142720284737898, 'learning_rate': 0.022066991249460103, 'max_bin': 638, 'max_depth': 40, 'min_child_samples': 26, 'min_child_weight': 0.9545503921499345, 'num_leaves': 76, 'reg_alpha': 0.07139588474544915, 'reg_lambda': 87.7296381526307, 'scale_pos_weight': 0.002315903191638441, 'subsample': 0.34817978468161015, 'subsample_for_bin': 435012, 'subsample_freq': 6}\n",
      "\n",
      "Fitting 3 folds for each of 1 candidates, totalling 3 fits\n"
     ]
    },
    {
     "name": "stderr",
     "output_type": "stream",
     "text": [
      "[Parallel(n_jobs=1)]: Done   3 out of   3 | elapsed:   23.6s finished\n"
     ]
    },
    {
     "name": "stdout",
     "output_type": "stream",
     "text": [
      "Best RMSE: -2.1481775\n",
      "Best params: {'colsample_bytree': 0.8142720284737898, 'learning_rate': 0.022066991249460103, 'max_bin': 638, 'max_depth': 40, 'min_child_samples': 26, 'min_child_weight': 0.9545503921499345, 'num_leaves': 76, 'reg_alpha': 0.07139588474544915, 'reg_lambda': 87.7296381526307, 'scale_pos_weight': 0.002315903191638441, 'subsample': 0.34817978468161015, 'subsample_for_bin': 435012, 'subsample_freq': 6}\n",
      "\n"
     ]
    }
   ],
   "source": [
    "print(lgb.__version__)\n",
    "\n",
    "estimator = lgb.LGBMRegressor(boosting_type='gbdt',  \n",
    "                              n_estimators=300, objective=None, \n",
    "                              random_state=42, n_jobs=-1, silent=False)\n",
    "\n",
    "space = {\n",
    "    'learning_rate': Real(0.01, 1.0, 'log-uniform'),\n",
    "    'num_leaves': Integer(3, 100),      \n",
    "    'max_depth': Integer(0, 50),\n",
    "    'min_child_samples': Integer(0, 50),\n",
    "    'max_bin': Integer(100, 1000),\n",
    "    'subsample': Real(0.01, 1.0, 'uniform'),\n",
    "    'subsample_freq': Integer(0, 10),\n",
    "    'colsample_bytree': Real(0.01, 1.0, 'uniform'),\n",
    "    'min_child_weight': Real(0, 10),\n",
    "    'subsample_for_bin': Integer(100000, 500000),\n",
    "    'reg_lambda': Real(1e-9, 1000, 'log-uniform'),\n",
    "    'reg_alpha': Real(1e-9, 1.0, 'log-uniform'),\n",
    "    'scale_pos_weight': Real(1e-6, 500, 'log-uniform'),\n",
    "}\n",
    "    \n",
    "cv = KFold(n_splits=3, shuffle=True, random_state=42)\n",
    "\n",
    "BayesGridCV = BayesSearchCV(estimator, space, scoring='neg_mean_squared_error', cv=cv, n_iter=10, verbose=1, refit=True, \n",
    "               random_state=42, return_train_score=True)\n",
    "\n",
    "def print_status(result):\n",
    "    print('Best RMSE: {}\\nBest params: {}\\n'.format(\n",
    "        np.round(BayesGridCV.best_score_, 7),\n",
    "        BayesGridCV.best_params_))\n",
    "    \n",
    "result = BayesGridCV.fit(X_train, Y_train, callback=print_status)"
   ]
  },
  {
   "cell_type": "code",
   "execution_count": 18,
   "metadata": {},
   "outputs": [
    {
     "name": "stdout",
     "output_type": "stream",
     "text": [
      "2.1.2\n",
      "Mean Squared Error: 1.119388265702\n",
      "Wall time: 1min 52s\n"
     ]
    }
   ],
   "source": [
    "%%time\n",
    "\n",
    "print(lgb.__version__)\n",
    "dtrain = lgb.Dataset(data=X_train, label=Y_train, free_raw_data=False)\n",
    "dtrain.construct()            \n",
    "\n",
    "lgb_params = {\n",
    "    'objective': 'regression',\n",
    "    'num_leaves': 76,\n",
    "    'subsample': 0.34817978468161015,\n",
    "    'subsample_for_bin': 435012,\n",
    "    'subsample_freq': 6,\n",
    "    'colsample_bytree': 0.8142720284737898,\n",
    "#     'min_split_gain': 0.7453280360438532,\n",
    "    'reg_alpha': 0.07139588474544915,\n",
    "    'reg_lambda': 87.7296381526307,\n",
    "    'min_child_weight': 0.9545503921499345,\n",
    "    'min_child_samples': 26,    \n",
    "    'verbose': 1,\n",
    "    'seed': 42,\n",
    "    'boosting_type': 'gbdt',\n",
    "    'max_bin': 638,\n",
    "    'max_depth': 40,\n",
    "    'learning_rate': 0.022066991249460103,\n",
    "    'scale_pos_weight': 0.002315903191638441,\n",
    "    'metric': 'rmse',\n",
    "}\n",
    "\n",
    "model = lgb.train(lgb_params, dtrain, 1000)\n",
    "print(\"Mean Squared Error: %.12f\" % mean_squared_error(model.predict(X_train, num_iteration=-1), Y_train))\n",
    "\n",
    "Y_lgb_preds = np.expm1(model.predict(X_test, num_iteration=-1))"
   ]
  },
  {
   "cell_type": "markdown",
   "metadata": {},
   "source": [
    "### XGboost tuning"
   ]
  },
  {
   "cell_type": "code",
   "execution_count": 14,
   "metadata": {},
   "outputs": [
    {
     "name": "stdout",
     "output_type": "stream",
     "text": [
      "0.72\n",
      "Fitting 3 folds for each of 1 candidates, totalling 3 fits\n"
     ]
    },
    {
     "name": "stderr",
     "output_type": "stream",
     "text": [
      "[Parallel(n_jobs=1)]: Done   3 out of   3 | elapsed:   14.1s finished\n"
     ]
    },
    {
     "name": "stdout",
     "output_type": "stream",
     "text": [
      "Best RMSE: -198.7919227\n",
      "Best params: {'colsample_bylevel': 0.4160029192647807, 'colsample_bytree': 0.7304484857455519, 'gamma': 0.13031389926541354, 'learning_rate': 0.042815319280763466, 'max_delta_step': 7, 'max_depth': 10, 'min_child_weight': 4, 'reg_alpha': 0.004524161584138917, 'reg_lambda': 4.5035991909114364e-06, 'scale_pos_weight': 0.4316379249903662, 'subsample': 0.5544643023916863}\n",
      "\n",
      "Fitting 3 folds for each of 1 candidates, totalling 3 fits\n"
     ]
    },
    {
     "name": "stderr",
     "output_type": "stream",
     "text": [
      "[Parallel(n_jobs=1)]: Done   3 out of   3 | elapsed:  1.7min finished\n"
     ]
    },
    {
     "name": "stdout",
     "output_type": "stream",
     "text": [
      "Best RMSE: -5.5075192\n",
      "Best params: {'colsample_bylevel': 0.8390144719977516, 'colsample_bytree': 0.8844821246070537, 'gamma': 4.358684608480795e-07, 'learning_rate': 0.7988179462781242, 'max_delta_step': 9, 'max_depth': 4, 'min_child_weight': 1, 'reg_alpha': 1.521551227197179e-06, 'reg_lambda': 0.042535272805117035, 'scale_pos_weight': 196.9224481160877, 'subsample': 0.6336020558163782}\n",
      "\n",
      "Fitting 3 folds for each of 1 candidates, totalling 3 fits\n"
     ]
    },
    {
     "name": "stderr",
     "output_type": "stream",
     "text": [
      "[Parallel(n_jobs=1)]: Done   3 out of   3 | elapsed:  2.3min finished\n"
     ]
    },
    {
     "name": "stdout",
     "output_type": "stream",
     "text": [
      "Best RMSE: -2.1399253\n",
      "Best params: {'colsample_bylevel': 0.4503841871781403, 'colsample_bytree': 0.9195352964526833, 'gamma': 8.168958221061441e-09, 'learning_rate': 0.07356404539935663, 'max_delta_step': 2, 'max_depth': 11, 'min_child_weight': 2, 'reg_alpha': 0.005807280212192344, 'reg_lambda': 0.004876240041754427, 'scale_pos_weight': 292.346774761682, 'subsample': 0.7064328557952411}\n",
      "\n",
      "Fitting 3 folds for each of 1 candidates, totalling 3 fits\n"
     ]
    },
    {
     "name": "stderr",
     "output_type": "stream",
     "text": [
      "[Parallel(n_jobs=1)]: Done   3 out of   3 | elapsed:   12.9s finished\n"
     ]
    },
    {
     "name": "stdout",
     "output_type": "stream",
     "text": [
      "Best RMSE: -2.1399253\n",
      "Best params: {'colsample_bylevel': 0.4503841871781403, 'colsample_bytree': 0.9195352964526833, 'gamma': 8.168958221061441e-09, 'learning_rate': 0.07356404539935663, 'max_delta_step': 2, 'max_depth': 11, 'min_child_weight': 2, 'reg_alpha': 0.005807280212192344, 'reg_lambda': 0.004876240041754427, 'scale_pos_weight': 292.346774761682, 'subsample': 0.7064328557952411}\n",
      "\n",
      "Fitting 3 folds for each of 1 candidates, totalling 3 fits\n"
     ]
    },
    {
     "name": "stderr",
     "output_type": "stream",
     "text": [
      "[Parallel(n_jobs=1)]: Done   3 out of   3 | elapsed:   15.0s finished\n"
     ]
    },
    {
     "name": "stdout",
     "output_type": "stream",
     "text": [
      "Best RMSE: -2.1399253\n",
      "Best params: {'colsample_bylevel': 0.4503841871781403, 'colsample_bytree': 0.9195352964526833, 'gamma': 8.168958221061441e-09, 'learning_rate': 0.07356404539935663, 'max_delta_step': 2, 'max_depth': 11, 'min_child_weight': 2, 'reg_alpha': 0.005807280212192344, 'reg_lambda': 0.004876240041754427, 'scale_pos_weight': 292.346774761682, 'subsample': 0.7064328557952411}\n",
      "\n",
      "Fitting 3 folds for each of 1 candidates, totalling 3 fits\n"
     ]
    },
    {
     "name": "stderr",
     "output_type": "stream",
     "text": [
      "[Parallel(n_jobs=1)]: Done   3 out of   3 | elapsed:   17.4s finished\n"
     ]
    },
    {
     "name": "stdout",
     "output_type": "stream",
     "text": [
      "Best RMSE: -2.1399253\n",
      "Best params: {'colsample_bylevel': 0.4503841871781403, 'colsample_bytree': 0.9195352964526833, 'gamma': 8.168958221061441e-09, 'learning_rate': 0.07356404539935663, 'max_delta_step': 2, 'max_depth': 11, 'min_child_weight': 2, 'reg_alpha': 0.005807280212192344, 'reg_lambda': 0.004876240041754427, 'scale_pos_weight': 292.346774761682, 'subsample': 0.7064328557952411}\n",
      "\n",
      "Fitting 3 folds for each of 1 candidates, totalling 3 fits\n"
     ]
    },
    {
     "name": "stderr",
     "output_type": "stream",
     "text": [
      "[Parallel(n_jobs=1)]: Done   3 out of   3 | elapsed:   15.6s finished\n"
     ]
    },
    {
     "name": "stdout",
     "output_type": "stream",
     "text": [
      "Best RMSE: -2.1399253\n",
      "Best params: {'colsample_bylevel': 0.4503841871781403, 'colsample_bytree': 0.9195352964526833, 'gamma': 8.168958221061441e-09, 'learning_rate': 0.07356404539935663, 'max_delta_step': 2, 'max_depth': 11, 'min_child_weight': 2, 'reg_alpha': 0.005807280212192344, 'reg_lambda': 0.004876240041754427, 'scale_pos_weight': 292.346774761682, 'subsample': 0.7064328557952411}\n",
      "\n",
      "Fitting 3 folds for each of 1 candidates, totalling 3 fits\n"
     ]
    },
    {
     "name": "stderr",
     "output_type": "stream",
     "text": [
      "[Parallel(n_jobs=1)]: Done   3 out of   3 | elapsed:  1.0min finished\n"
     ]
    },
    {
     "name": "stdout",
     "output_type": "stream",
     "text": [
      "Best RMSE: -2.1399253\n",
      "Best params: {'colsample_bylevel': 0.4503841871781403, 'colsample_bytree': 0.9195352964526833, 'gamma': 8.168958221061441e-09, 'learning_rate': 0.07356404539935663, 'max_delta_step': 2, 'max_depth': 11, 'min_child_weight': 2, 'reg_alpha': 0.005807280212192344, 'reg_lambda': 0.004876240041754427, 'scale_pos_weight': 292.346774761682, 'subsample': 0.7064328557952411}\n",
      "\n",
      "Fitting 3 folds for each of 1 candidates, totalling 3 fits\n"
     ]
    },
    {
     "name": "stderr",
     "output_type": "stream",
     "text": [
      "[Parallel(n_jobs=1)]: Done   3 out of   3 | elapsed:   19.6s finished\n"
     ]
    },
    {
     "name": "stdout",
     "output_type": "stream",
     "text": [
      "Best RMSE: -2.1399253\n",
      "Best params: {'colsample_bylevel': 0.4503841871781403, 'colsample_bytree': 0.9195352964526833, 'gamma': 8.168958221061441e-09, 'learning_rate': 0.07356404539935663, 'max_delta_step': 2, 'max_depth': 11, 'min_child_weight': 2, 'reg_alpha': 0.005807280212192344, 'reg_lambda': 0.004876240041754427, 'scale_pos_weight': 292.346774761682, 'subsample': 0.7064328557952411}\n",
      "\n",
      "Fitting 3 folds for each of 1 candidates, totalling 3 fits\n"
     ]
    },
    {
     "name": "stderr",
     "output_type": "stream",
     "text": [
      "[Parallel(n_jobs=1)]: Done   3 out of   3 | elapsed:   18.9s finished\n"
     ]
    },
    {
     "name": "stdout",
     "output_type": "stream",
     "text": [
      "Best RMSE: -2.1399253\n",
      "Best params: {'colsample_bylevel': 0.4503841871781403, 'colsample_bytree': 0.9195352964526833, 'gamma': 8.168958221061441e-09, 'learning_rate': 0.07356404539935663, 'max_delta_step': 2, 'max_depth': 11, 'min_child_weight': 2, 'reg_alpha': 0.005807280212192344, 'reg_lambda': 0.004876240041754427, 'scale_pos_weight': 292.346774761682, 'subsample': 0.7064328557952411}\n",
      "\n",
      "Wall time: 8min 30s\n"
     ]
    }
   ],
   "source": [
    "%%time\n",
    "print(xgb.__version__)\n",
    "\n",
    "estimator = xgb.XGBRegressor(n_estimators=300, silent=False, objective='reg:linear', booster='gbtree', n_jobs=1, random_state=42)\n",
    "    \n",
    "space = {'max_depth' : Integer(3, 20), \n",
    "         'learning_rate' :Real(0.01, 1.0, 'log-uniform'), \n",
    "         'gamma' : Real(1e-9, 0.5, 'log-uniform'), \n",
    "         'min_child_weight' : Integer(0, 10), \n",
    "         'max_delta_step' : Integer(0, 10),\n",
    "         'subsample' : Real(0.01, 1.0, 'uniform'), \n",
    "         'colsample_bytree' : Real(0.01, 1.0, 'uniform'), \n",
    "         'colsample_bylevel' : Real(0.01, 1.0, 'uniform'), \n",
    "         'reg_alpha' : Real(1e-9, 1.0, 'log-uniform'), \n",
    "         'reg_lambda' : Real(1e-9, 1000, 'log-uniform'),\n",
    "         'scale_pos_weight' : Real(1e-6, 500, 'log-uniform')\n",
    "        } \n",
    "\n",
    "cv = KFold(n_splits=3, shuffle=True, random_state=42)\n",
    "\n",
    "BayesGridCV = BayesSearchCV(estimator, space, scoring='neg_mean_squared_error', cv=cv, n_iter=10, verbose=1, refit=True, \n",
    "               random_state=42, return_train_score=True)\n",
    "\n",
    "def print_status(result):\n",
    "    print('Best RMSE: {}\\nBest params: {}\\n'.format(\n",
    "        np.round(BayesGridCV.best_score_, 7),\n",
    "        BayesGridCV.best_params_))\n",
    "    \n",
    "result = BayesGridCV.fit(X_train, Y_train, callback=print_status)"
   ]
  },
  {
   "cell_type": "code",
   "execution_count": 15,
   "metadata": {},
   "outputs": [
    {
     "name": "stdout",
     "output_type": "stream",
     "text": [
      "0.72\n",
      "Mean squared error 0.023820462437301456\n",
      "Wall time: 5min 13s\n"
     ]
    }
   ],
   "source": [
    "%%time\n",
    "print(xgb.__version__)\n",
    "\n",
    "params = {'colsample_bylevel': 0.4503841871781403, \n",
    "          'colsample_bytree': 0.9195352964526833, \n",
    "          'gamma': 8.168958221061441e-09, \n",
    "          'learning_rate': 0.07356404539935663, \n",
    "          'max_delta_step': 2, \n",
    "          'max_depth': 11, \n",
    "          'min_child_weight': 2, \n",
    "          'reg_alpha': 0.005807280212192344, \n",
    "          'reg_lambda': 0.004876240041754427, \n",
    "          'scale_pos_weight': 292.346774761682, \n",
    "          'subsample': 0.7064328557952411,\n",
    "          'silent' : False, \n",
    "          'objective' : 'reg:linear',\n",
    "          'eval_metric': 'rmse',\n",
    "          'booster' : 'gbtree', \n",
    "          'n_jobs' : 1, \n",
    "          'random_state' : 42\n",
    "         }\n",
    "\n",
    "dtrain = xgb.DMatrix(X_train, label=Y_train)\n",
    "model_xgb = xgb.train(params, dtrain, 1000)\n",
    "\n",
    "print(\"Mean squared error\", mean_squared_error(model_xgb.predict(dtrain, ntree_limit=-1), Y_train))\n",
    "dtest = xgb.DMatrix(X_test)\n",
    "Y_predict_xgb = np.expm1(model_xgb.predict(dtest, ntree_limit=-1))"
   ]
  },
  {
   "cell_type": "code",
   "execution_count": 17,
   "metadata": {},
   "outputs": [],
   "source": [
    "Y_predict_avr = (Y_stack_preds + Y_lgb_preds + Y_predict_xgb) / 3\n",
    "submission = pd.read_csv('dataset//sample_submission.csv')\n",
    "submission[\"target\"] = Y_predict_avr\n",
    "submission.to_csv('results//submission.csv', index=False)"
   ]
  },
  {
   "cell_type": "code",
   "execution_count": null,
   "metadata": {},
   "outputs": [],
   "source": []
  }
 ],
 "metadata": {
  "kernelspec": {
   "display_name": "Python 3",
   "language": "python",
   "name": "python3"
  },
  "language_info": {
   "codemirror_mode": {
    "name": "ipython",
    "version": 3
   },
   "file_extension": ".py",
   "mimetype": "text/x-python",
   "name": "python",
   "nbconvert_exporter": "python",
   "pygments_lexer": "ipython3",
   "version": "3.6.5"
  }
 },
 "nbformat": 4,
 "nbformat_minor": 2
}
